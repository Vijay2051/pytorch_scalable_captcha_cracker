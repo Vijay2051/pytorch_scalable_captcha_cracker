{
 "metadata": {
  "language_info": {
   "codemirror_mode": {
    "name": "ipython",
    "version": 3
   },
   "file_extension": ".py",
   "mimetype": "text/x-python",
   "name": "python",
   "nbconvert_exporter": "python",
   "pygments_lexer": "ipython3",
   "version": "3.7.7-final"
  },
  "orig_nbformat": 2,
  "kernelspec": {
   "name": "python3",
   "display_name": "Python 3"
  }
 },
 "nbformat": 4,
 "nbformat_minor": 2,
 "cells": [
  {
   "cell_type": "code",
   "execution_count": 1,
   "metadata": {},
   "outputs": [],
   "source": [
    "import os\n",
    "from numpy.lib.shape_base import split\n",
    "from sklearn import metrics\n",
    "from sklearn import preprocessing, model_selection\n",
    "import glob\n",
    "import torch\n",
    "import pandas as pd\n",
    "import numpy as np\n",
    "import os\n",
    "\n",
    "import config\n",
    "import dataset"
   ]
  },
  {
   "cell_type": "code",
   "execution_count": 52,
   "metadata": {},
   "outputs": [],
   "source": [
    "def split(x):\n",
    "    return [i for i in str(x)]\n",
    "\n",
    "def frst_char(x):\n",
    "    x = x.split(\"/\")[3].split(\".\")[0]\n",
    "    return int(x)"
   ]
  },
  {
   "cell_type": "code",
   "execution_count": 9,
   "metadata": {
    "tags": []
   },
   "outputs": [
    {
     "output_type": "stream",
     "name": "stdout",
     "text": "[&#39;../input/archive/bg9Lm0sDn8.jpg&#39;, &#39;../input/archive/NoyYAJE3s3.jpg&#39;, &#39;../input/archive/N9AyPzO3Pb.jpg&#39;, &#39;../input/archive/nZ6njnN3z4.jpg&#39;]\n[&#39;bg9Lm0sDn8&#39;, &#39;NoyYAJE3s3&#39;, &#39;N9AyPzO3Pb&#39;, &#39;nZ6njnN3z4&#39;, &#39;HVtXl6V21m&#39;]\n10000\n62\n"
    }
   ],
   "source": [
    "# image_files\n",
    "image_files = glob.glob(\"../input/archive/*.jpg\")\n",
    "print(image_files[:4])\n",
    "# targets\n",
    "targets_orig = [i.split(\"/\")[-1][:-4] for i in image_files]\n",
    "print(targets_orig[:5])\n",
    "# creating a list of list for the targets\n",
    "targets = [[j for j in i] for i in targets_orig]\n",
    "# flattening the lists\n",
    "targets_flat = [item for sublists in targets for item in sublists]\n",
    "# print(targets_flat)\n",
    "lbl_encoder = preprocessing.LabelEncoder()\n",
    "lbl_encoder.fit(targets_flat)\n",
    "enc_targets = [lbl_encoder.transform(x) for x in targets]\n",
    "# this +1 is to add 1 to all the encoded labels, so that we could use 0 for the unknown values\n",
    "enc_targets = np.array(enc_targets) + 1\n",
    "print(len(enc_targets))\n",
    "print(len(lbl_encoder.classes_))\n",
    "(\n",
    "    train_imgs,\n",
    "    test_imgs,\n",
    "    train_targets_orig,\n",
    "    test_target_orig,\n",
    "    train_targets,\n",
    "    test_targets,\n",
    ") = model_selection.train_test_split(\n",
    "    image_files, targets_orig, enc_targets, test_size=0.1, random_state=42\n",
    ")\n",
    "train_dataset = dataset.ClassificationDataset(\n",
    "    image_paths=train_imgs,\n",
    "    targets=train_targets,\n",
    "    resize=(config.IMAGE_HEIGHT, config.IMAGE_WIDTH),\n",
    ")\n",
    "train_dataloader = torch.utils.data.DataLoader(\n",
    "    train_dataset,\n",
    "    batch_size=config.BATCH_SIZE,\n",
    "    num_workers=config.NUM_WORKERS,\n",
    "    shuffle=True,\n",
    ")\n",
    "test_dataset = dataset.ClassificationDataset(\n",
    "    image_paths=test_imgs,\n",
    "    targets=test_targets,\n",
    "    resize=(config.IMAGE_HEIGHT, config.IMAGE_WIDTH),\n",
    ")\n",
    "test_dataloader = torch.utils.data.DataLoader(\n",
    "        test_dataset,\n",
    "        batch_size=config.BATCH_SIZE,\n",
    "        num_workers=config.NUM_WORKERS,\n",
    "        shuffle=False,\n",
    "    )"
   ]
  },
  {
   "cell_type": "code",
   "execution_count": 54,
   "metadata": {
    "tags": []
   },
   "outputs": [
    {
     "output_type": "error",
     "ename": "RuntimeError",
     "evalue": "Caught RuntimeError in DataLoader worker process 0.\nOriginal Traceback (most recent call last):\n  File &quot;/home/rahul/anaconda3/lib/python3.7/site-packages/torch/utils/data/_utils/worker.py&quot;, line 185, in _worker_loop\n    data = fetcher.fetch(index)\n  File &quot;/home/rahul/anaconda3/lib/python3.7/site-packages/torch/utils/data/_utils/fetch.py&quot;, line 47, in fetch\n    return self.collate_fn(data)\n  File &quot;/home/rahul/anaconda3/lib/python3.7/site-packages/torch/utils/data/_utils/collate.py&quot;, line 74, in default_collate\n    return {key: default_collate([d[key] for d in batch]) for key in elem}\n  File &quot;/home/rahul/anaconda3/lib/python3.7/site-packages/torch/utils/data/_utils/collate.py&quot;, line 74, in &lt;dictcomp&gt;\n    return {key: default_collate([d[key] for d in batch]) for key in elem}\n  File &quot;/home/rahul/anaconda3/lib/python3.7/site-packages/torch/utils/data/_utils/collate.py&quot;, line 55, in default_collate\n    return torch.stack(batch, 0, out=out)\nRuntimeError: stack expects each tensor to be equal size, but got [6] at entry 0 and [7] at entry 3\n",
     "traceback": [
      "\u001b[0;31m---------------------------------------------------------------------------\u001b[0m",
      "\u001b[0;31mRuntimeError\u001b[0m                              Traceback (most recent call last)",
      "\u001b[0;32m&lt;ipython-input-54-44baf67b7894&gt;\u001b[0m in \u001b[0;36m&lt;module&gt;\u001b[0;34m\u001b[0m\n\u001b[0;32m----&gt; 1\u001b[0;31m \u001b[0;32mfor\u001b[0m \u001b[0mdata\u001b[0m \u001b[0;32min\u001b[0m \u001b[0mtrain_dataloader\u001b[0m\u001b[0;34m:\u001b[0m\u001b[0;34m\u001b[0m\u001b[0;34m\u001b[0m\u001b[0m\n\u001b[0m\u001b[1;32m      2\u001b[0m     \u001b[0mprint\u001b[0m\u001b[0;34m(\u001b[0m\u001b[0mdata\u001b[0m\u001b[0;34m)\u001b[0m\u001b[0;34m\u001b[0m\u001b[0;34m\u001b[0m\u001b[0m\n",
      "\u001b[0;32m~/anaconda3/lib/python3.7/site-packages/torch/utils/data/dataloader.py\u001b[0m in \u001b[0;36m__next__\u001b[0;34m(self)\u001b[0m\n\u001b[1;32m    361\u001b[0m \u001b[0;34m\u001b[0m\u001b[0m\n\u001b[1;32m    362\u001b[0m     \u001b[0;32mdef\u001b[0m \u001b[0m__next__\u001b[0m\u001b[0;34m(\u001b[0m\u001b[0mself\u001b[0m\u001b[0;34m)\u001b[0m\u001b[0;34m:\u001b[0m\u001b[0;34m\u001b[0m\u001b[0;34m\u001b[0m\u001b[0m\n\u001b[0;32m--&gt; 363\u001b[0;31m         \u001b[0mdata\u001b[0m \u001b[0;34m=\u001b[0m \u001b[0mself\u001b[0m\u001b[0;34m.\u001b[0m\u001b[0m_next_data\u001b[0m\u001b[0;34m(\u001b[0m\u001b[0;34m)\u001b[0m\u001b[0;34m\u001b[0m\u001b[0;34m\u001b[0m\u001b[0m\n\u001b[0m\u001b[1;32m    364\u001b[0m         \u001b[0mself\u001b[0m\u001b[0;34m.\u001b[0m\u001b[0m_num_yielded\u001b[0m \u001b[0;34m+=\u001b[0m \u001b[0;36m1\u001b[0m\u001b[0;34m\u001b[0m\u001b[0;34m\u001b[0m\u001b[0m\n\u001b[1;32m    365\u001b[0m         \u001b[0;32mif\u001b[0m \u001b[0mself\u001b[0m\u001b[0;34m.\u001b[0m\u001b[0m_dataset_kind\u001b[0m \u001b[0;34m==\u001b[0m \u001b[0m_DatasetKind\u001b[0m\u001b[0;34m.\u001b[0m\u001b[0mIterable\u001b[0m \u001b[0;32mand\u001b[0m\u001b[0;31m \u001b[0m\u001b[0;31m\\\u001b[0m\u001b[0;34m\u001b[0m\u001b[0;34m\u001b[0m\u001b[0m\n",
      "\u001b[0;32m~/anaconda3/lib/python3.7/site-packages/torch/utils/data/dataloader.py\u001b[0m in \u001b[0;36m_next_data\u001b[0;34m(self)\u001b[0m\n\u001b[1;32m    987\u001b[0m             \u001b[0;32melse\u001b[0m\u001b[0;34m:\u001b[0m\u001b[0;34m\u001b[0m\u001b[0;34m\u001b[0m\u001b[0m\n\u001b[1;32m    988\u001b[0m                 \u001b[0;32mdel\u001b[0m \u001b[0mself\u001b[0m\u001b[0;34m.\u001b[0m\u001b[0m_task_info\u001b[0m\u001b[0;34m[\u001b[0m\u001b[0midx\u001b[0m\u001b[0;34m]\u001b[0m\u001b[0;34m\u001b[0m\u001b[0;34m\u001b[0m\u001b[0m\n\u001b[0;32m--&gt; 989\u001b[0;31m                 \u001b[0;32mreturn\u001b[0m \u001b[0mself\u001b[0m\u001b[0;34m.\u001b[0m\u001b[0m_process_data\u001b[0m\u001b[0;34m(\u001b[0m\u001b[0mdata\u001b[0m\u001b[0;34m)\u001b[0m\u001b[0;34m\u001b[0m\u001b[0;34m\u001b[0m\u001b[0m\n\u001b[0m\u001b[1;32m    990\u001b[0m \u001b[0;34m\u001b[0m\u001b[0m\n\u001b[1;32m    991\u001b[0m     \u001b[0;32mdef\u001b[0m \u001b[0m_try_put_index\u001b[0m\u001b[0;34m(\u001b[0m\u001b[0mself\u001b[0m\u001b[0;34m)\u001b[0m\u001b[0;34m:\u001b[0m\u001b[0;34m\u001b[0m\u001b[0;34m\u001b[0m\u001b[0m\n",
      "\u001b[0;32m~/anaconda3/lib/python3.7/site-packages/torch/utils/data/dataloader.py\u001b[0m in \u001b[0;36m_process_data\u001b[0;34m(self, data)\u001b[0m\n\u001b[1;32m   1012\u001b[0m         \u001b[0mself\u001b[0m\u001b[0;34m.\u001b[0m\u001b[0m_try_put_index\u001b[0m\u001b[0;34m(\u001b[0m\u001b[0;34m)\u001b[0m\u001b[0;34m\u001b[0m\u001b[0;34m\u001b[0m\u001b[0m\n\u001b[1;32m   1013\u001b[0m         \u001b[0;32mif\u001b[0m \u001b[0misinstance\u001b[0m\u001b[0;34m(\u001b[0m\u001b[0mdata\u001b[0m\u001b[0;34m,\u001b[0m \u001b[0mExceptionWrapper\u001b[0m\u001b[0;34m)\u001b[0m\u001b[0;34m:\u001b[0m\u001b[0;34m\u001b[0m\u001b[0;34m\u001b[0m\u001b[0m\n\u001b[0;32m-&gt; 1014\u001b[0;31m             \u001b[0mdata\u001b[0m\u001b[0;34m.\u001b[0m\u001b[0mreraise\u001b[0m\u001b[0;34m(\u001b[0m\u001b[0;34m)\u001b[0m\u001b[0;34m\u001b[0m\u001b[0;34m\u001b[0m\u001b[0m\n\u001b[0m\u001b[1;32m   1015\u001b[0m         \u001b[0;32mreturn\u001b[0m \u001b[0mdata\u001b[0m\u001b[0;34m\u001b[0m\u001b[0;34m\u001b[0m\u001b[0m\n\u001b[1;32m   1016\u001b[0m \u001b[0;34m\u001b[0m\u001b[0m\n",
      "\u001b[0;32m~/anaconda3/lib/python3.7/site-packages/torch/_utils.py\u001b[0m in \u001b[0;36mreraise\u001b[0;34m(self)\u001b[0m\n\u001b[1;32m    393\u001b[0m             \u001b[0;31m# (https://bugs.python.org/issue2651), so we work around it.\u001b[0m\u001b[0;34m\u001b[0m\u001b[0;34m\u001b[0m\u001b[0;34m\u001b[0m\u001b[0m\n\u001b[1;32m    394\u001b[0m             \u001b[0mmsg\u001b[0m \u001b[0;34m=\u001b[0m \u001b[0mKeyErrorMessage\u001b[0m\u001b[0;34m(\u001b[0m\u001b[0mmsg\u001b[0m\u001b[0;34m)\u001b[0m\u001b[0;34m\u001b[0m\u001b[0;34m\u001b[0m\u001b[0m\n\u001b[0;32m--&gt; 395\u001b[0;31m         \u001b[0;32mraise\u001b[0m \u001b[0mself\u001b[0m\u001b[0;34m.\u001b[0m\u001b[0mexc_type\u001b[0m\u001b[0;34m(\u001b[0m\u001b[0mmsg\u001b[0m\u001b[0;34m)\u001b[0m\u001b[0;34m\u001b[0m\u001b[0;34m\u001b[0m\u001b[0m\n\u001b[0m",
      "\u001b[0;31mRuntimeError\u001b[0m: Caught RuntimeError in DataLoader worker process 0.\nOriginal Traceback (most recent call last):\n  File &quot;/home/rahul/anaconda3/lib/python3.7/site-packages/torch/utils/data/_utils/worker.py&quot;, line 185, in _worker_loop\n    data = fetcher.fetch(index)\n  File &quot;/home/rahul/anaconda3/lib/python3.7/site-packages/torch/utils/data/_utils/fetch.py&quot;, line 47, in fetch\n    return self.collate_fn(data)\n  File &quot;/home/rahul/anaconda3/lib/python3.7/site-packages/torch/utils/data/_utils/collate.py&quot;, line 74, in default_collate\n    return {key: default_collate([d[key] for d in batch]) for key in elem}\n  File &quot;/home/rahul/anaconda3/lib/python3.7/site-packages/torch/utils/data/_utils/collate.py&quot;, line 74, in &lt;dictcomp&gt;\n    return {key: default_collate([d[key] for d in batch]) for key in elem}\n  File &quot;/home/rahul/anaconda3/lib/python3.7/site-packages/torch/utils/data/_utils/collate.py&quot;, line 55, in default_collate\n    return torch.stack(batch, 0, out=out)\nRuntimeError: stack expects each tensor to be equal size, but got [6] at entry 0 and [7] at entry 3\n"
     ]
    }
   ],
   "source": [
    "for data in train_dataloader:\n",
    "    print(data)"
   ]
  },
  {
   "cell_type": "code",
   "execution_count": 10,
   "metadata": {},
   "outputs": [],
   "source": [
    "imag = train_dataset[0]['images'].numpy()"
   ]
  },
  {
   "cell_type": "code",
   "execution_count": 11,
   "metadata": {},
   "outputs": [],
   "source": [
    "img = np.transpose(imag, (1, 2, 0))"
   ]
  },
  {
   "cell_type": "code",
   "execution_count": 12,
   "metadata": {},
   "outputs": [],
   "source": [
    "import matplotlib.pyplot as plt\n",
    "%matplotlib inline"
   ]
  },
  {
   "cell_type": "code",
   "execution_count": 13,
   "metadata": {
    "tags": []
   },
   "outputs": [
    {
     "output_type": "stream",
     "name": "stderr",
     "text": "Clipping input data to the valid range for imshow with RGB data ([0..1] for floats or [0..255] for integers).\n"
    },
    {
     "output_type": "execute_result",
     "data": {
      "text/plain": "&lt;matplotlib.image.AxesImage at 0x7f35ffec4ed0&gt;"
     },
     "metadata": {},
     "execution_count": 13
    },
    {
     "output_type": "display_data",
     "data": {
      "text/plain": "&lt;Figure size 432x288 with 1 Axes&gt;",
      "image/svg+xml": "<?xml version=\"1.0\" encoding=\"utf-8\" standalone=\"no\"?>\n<!DOCTYPE svg PUBLIC \"-//W3C//DTD SVG 1.1//EN\"\n  \"http://www.w3.org/Graphics/SVG/1.1/DTD/svg11.dtd\">\n<!-- Created with matplotlib (https://matplotlib.org/) -->\n<svg height=\"141.343744pt\" version=\"1.1\" viewBox=\"0 0 368.925 141.343744\" width=\"368.925pt\" xmlns=\"http://www.w3.org/2000/svg\" xmlns:xlink=\"http://www.w3.org/1999/xlink\">\n <metadata>\n  <rdf:RDF xmlns:cc=\"http://creativecommons.org/ns#\" xmlns:dc=\"http://purl.org/dc/elements/1.1/\" xmlns:rdf=\"http://www.w3.org/1999/02/22-rdf-syntax-ns#\">\n   <cc:Work>\n    <dc:type rdf:resource=\"http://purl.org/dc/dcmitype/StillImage\"/>\n    <dc:date>2020-10-06T09:57:38.054656</dc:date>\n    <dc:format>image/svg+xml</dc:format>\n    <dc:creator>\n     <cc:Agent>\n      <dc:title>Matplotlib v3.3.1, https://matplotlib.org/</dc:title>\n     </cc:Agent>\n    </dc:creator>\n   </cc:Work>\n  </rdf:RDF>\n </metadata>\n <defs>\n  <style type=\"text/css\">*{stroke-linecap:butt;stroke-linejoin:round;}</style>\n </defs>\n <g id=\"figure_1\">\n  <g id=\"patch_1\">\n   <path d=\"M -0 141.343744 \nL 368.925 141.343744 \nL 368.925 0 \nL -0 0 \nz\n\" style=\"fill:none;\"/>\n  </g>\n  <g id=\"axes_1\">\n   <g id=\"patch_2\">\n    <path d=\"M 26.925 117.465619 \nL 361.725 117.465619 \nL 361.725 10.329619 \nL 26.925 10.329619 \nz\n\" style=\"fill:#ffffff;\"/>\n   </g>\n   <g clip-path=\"url(#p950128c199)\">\n    <image height=\"108\" id=\"image98476cf094\" transform=\"scale(1 -1)translate(0 -108)\" width=\"335\" x=\"26.925\" xlink:href=\"data:image/png;base64,\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\" y=\"-9.465619\"/>\n   </g>\n   <g id=\"matplotlib.axis_1\">\n    <g id=\"xtick_1\">\n     <g id=\"line2d_1\">\n      <defs>\n       <path d=\"M 0 0 \nL 0 3.5 \n\" id=\"m060c130f4a\" style=\"stroke:#000000;stroke-width:0.8;\"/>\n      </defs>\n      <g>\n       <use style=\"stroke:#000000;stroke-width:0.8;\" x=\"27.5946\" xlink:href=\"#m060c130f4a\" y=\"117.465619\"/>\n      </g>\n     </g>\n     <g id=\"text_1\">\n      <!-- 0 -->\n      <g transform=\"translate(24.41335 132.064056)scale(0.1 -0.1)\">\n       <defs>\n        <path d=\"M 31.78125 66.40625 \nQ 24.171875 66.40625 20.328125 58.90625 \nQ 16.5 51.421875 16.5 36.375 \nQ 16.5 21.390625 20.328125 13.890625 \nQ 24.171875 6.390625 31.78125 6.390625 \nQ 39.453125 6.390625 43.28125 13.890625 \nQ 47.125 21.390625 47.125 36.375 \nQ 47.125 51.421875 43.28125 58.90625 \nQ 39.453125 66.40625 31.78125 66.40625 \nz\nM 31.78125 74.21875 \nQ 44.046875 74.21875 50.515625 64.515625 \nQ 56.984375 54.828125 56.984375 36.375 \nQ 56.984375 17.96875 50.515625 8.265625 \nQ 44.046875 -1.421875 31.78125 -1.421875 \nQ 19.53125 -1.421875 13.0625 8.265625 \nQ 6.59375 17.96875 6.59375 36.375 \nQ 6.59375 54.828125 13.0625 64.515625 \nQ 19.53125 74.21875 31.78125 74.21875 \nz\n\" id=\"DejaVuSans-48\"/>\n       </defs>\n       <use xlink:href=\"#DejaVuSans-48\"/>\n      </g>\n     </g>\n    </g>\n    <g id=\"xtick_2\">\n     <g id=\"line2d_2\">\n      <g>\n       <use style=\"stroke:#000000;stroke-width:0.8;\" x=\"94.5546\" xlink:href=\"#m060c130f4a\" y=\"117.465619\"/>\n      </g>\n     </g>\n     <g id=\"text_2\">\n      <!-- 50 -->\n      <g transform=\"translate(88.1921 132.064056)scale(0.1 -0.1)\">\n       <defs>\n        <path d=\"M 10.796875 72.90625 \nL 49.515625 72.90625 \nL 49.515625 64.59375 \nL 19.828125 64.59375 \nL 19.828125 46.734375 \nQ 21.96875 47.46875 24.109375 47.828125 \nQ 26.265625 48.1875 28.421875 48.1875 \nQ 40.625 48.1875 47.75 41.5 \nQ 54.890625 34.8125 54.890625 23.390625 \nQ 54.890625 11.625 47.5625 5.09375 \nQ 40.234375 -1.421875 26.90625 -1.421875 \nQ 22.3125 -1.421875 17.546875 -0.640625 \nQ 12.796875 0.140625 7.71875 1.703125 \nL 7.71875 11.625 \nQ 12.109375 9.234375 16.796875 8.0625 \nQ 21.484375 6.890625 26.703125 6.890625 \nQ 35.15625 6.890625 40.078125 11.328125 \nQ 45.015625 15.765625 45.015625 23.390625 \nQ 45.015625 31 40.078125 35.4375 \nQ 35.15625 39.890625 26.703125 39.890625 \nQ 22.75 39.890625 18.8125 39.015625 \nQ 14.890625 38.140625 10.796875 36.28125 \nz\n\" id=\"DejaVuSans-53\"/>\n       </defs>\n       <use xlink:href=\"#DejaVuSans-53\"/>\n       <use x=\"63.623047\" xlink:href=\"#DejaVuSans-48\"/>\n      </g>\n     </g>\n    </g>\n    <g id=\"xtick_3\">\n     <g id=\"line2d_3\">\n      <g>\n       <use style=\"stroke:#000000;stroke-width:0.8;\" x=\"161.5146\" xlink:href=\"#m060c130f4a\" y=\"117.465619\"/>\n      </g>\n     </g>\n     <g id=\"text_3\">\n      <!-- 100 -->\n      <g transform=\"translate(151.97085 132.064056)scale(0.1 -0.1)\">\n       <defs>\n        <path d=\"M 12.40625 8.296875 \nL 28.515625 8.296875 \nL 28.515625 63.921875 \nL 10.984375 60.40625 \nL 10.984375 69.390625 \nL 28.421875 72.90625 \nL 38.28125 72.90625 \nL 38.28125 8.296875 \nL 54.390625 8.296875 \nL 54.390625 0 \nL 12.40625 0 \nz\n\" id=\"DejaVuSans-49\"/>\n       </defs>\n       <use xlink:href=\"#DejaVuSans-49\"/>\n       <use x=\"63.623047\" xlink:href=\"#DejaVuSans-48\"/>\n       <use x=\"127.246094\" xlink:href=\"#DejaVuSans-48\"/>\n      </g>\n     </g>\n    </g>\n    <g id=\"xtick_4\">\n     <g id=\"line2d_4\">\n      <g>\n       <use style=\"stroke:#000000;stroke-width:0.8;\" x=\"228.4746\" xlink:href=\"#m060c130f4a\" y=\"117.465619\"/>\n      </g>\n     </g>\n     <g id=\"text_4\">\n      <!-- 150 -->\n      <g transform=\"translate(218.93085 132.064056)scale(0.1 -0.1)\">\n       <use xlink:href=\"#DejaVuSans-49\"/>\n       <use x=\"63.623047\" xlink:href=\"#DejaVuSans-53\"/>\n       <use x=\"127.246094\" xlink:href=\"#DejaVuSans-48\"/>\n      </g>\n     </g>\n    </g>\n    <g id=\"xtick_5\">\n     <g id=\"line2d_5\">\n      <g>\n       <use style=\"stroke:#000000;stroke-width:0.8;\" x=\"295.4346\" xlink:href=\"#m060c130f4a\" y=\"117.465619\"/>\n      </g>\n     </g>\n     <g id=\"text_5\">\n      <!-- 200 -->\n      <g transform=\"translate(285.89085 132.064056)scale(0.1 -0.1)\">\n       <defs>\n        <path d=\"M 19.1875 8.296875 \nL 53.609375 8.296875 \nL 53.609375 0 \nL 7.328125 0 \nL 7.328125 8.296875 \nQ 12.9375 14.109375 22.625 23.890625 \nQ 32.328125 33.6875 34.8125 36.53125 \nQ 39.546875 41.84375 41.421875 45.53125 \nQ 43.3125 49.21875 43.3125 52.78125 \nQ 43.3125 58.59375 39.234375 62.25 \nQ 35.15625 65.921875 28.609375 65.921875 \nQ 23.96875 65.921875 18.8125 64.3125 \nQ 13.671875 62.703125 7.8125 59.421875 \nL 7.8125 69.390625 \nQ 13.765625 71.78125 18.9375 73 \nQ 24.125 74.21875 28.421875 74.21875 \nQ 39.75 74.21875 46.484375 68.546875 \nQ 53.21875 62.890625 53.21875 53.421875 \nQ 53.21875 48.921875 51.53125 44.890625 \nQ 49.859375 40.875 45.40625 35.40625 \nQ 44.1875 33.984375 37.640625 27.21875 \nQ 31.109375 20.453125 19.1875 8.296875 \nz\n\" id=\"DejaVuSans-50\"/>\n       </defs>\n       <use xlink:href=\"#DejaVuSans-50\"/>\n       <use x=\"63.623047\" xlink:href=\"#DejaVuSans-48\"/>\n       <use x=\"127.246094\" xlink:href=\"#DejaVuSans-48\"/>\n      </g>\n     </g>\n    </g>\n   </g>\n   <g id=\"matplotlib.axis_2\">\n    <g id=\"ytick_1\">\n     <g id=\"line2d_6\">\n      <defs>\n       <path d=\"M 0 0 \nL -3.5 0 \n\" id=\"mf06aada002\" style=\"stroke:#000000;stroke-width:0.8;\"/>\n      </defs>\n      <g>\n       <use style=\"stroke:#000000;stroke-width:0.8;\" x=\"26.925\" xlink:href=\"#mf06aada002\" y=\"10.999219\"/>\n      </g>\n     </g>\n     <g id=\"text_6\">\n      <!-- 0 -->\n      <g transform=\"translate(13.5625 14.798438)scale(0.1 -0.1)\">\n       <use xlink:href=\"#DejaVuSans-48\"/>\n      </g>\n     </g>\n    </g>\n    <g id=\"ytick_2\">\n     <g id=\"line2d_7\">\n      <g>\n       <use style=\"stroke:#000000;stroke-width:0.8;\" x=\"26.925\" xlink:href=\"#mf06aada002\" y=\"37.783219\"/>\n      </g>\n     </g>\n     <g id=\"text_7\">\n      <!-- 20 -->\n      <g transform=\"translate(7.2 41.582438)scale(0.1 -0.1)\">\n       <use xlink:href=\"#DejaVuSans-50\"/>\n       <use x=\"63.623047\" xlink:href=\"#DejaVuSans-48\"/>\n      </g>\n     </g>\n    </g>\n    <g id=\"ytick_3\">\n     <g id=\"line2d_8\">\n      <g>\n       <use style=\"stroke:#000000;stroke-width:0.8;\" x=\"26.925\" xlink:href=\"#mf06aada002\" y=\"64.567219\"/>\n      </g>\n     </g>\n     <g id=\"text_8\">\n      <!-- 40 -->\n      <g transform=\"translate(7.2 68.366438)scale(0.1 -0.1)\">\n       <defs>\n        <path d=\"M 37.796875 64.3125 \nL 12.890625 25.390625 \nL 37.796875 25.390625 \nz\nM 35.203125 72.90625 \nL 47.609375 72.90625 \nL 47.609375 25.390625 \nL 58.015625 25.390625 \nL 58.015625 17.1875 \nL 47.609375 17.1875 \nL 47.609375 0 \nL 37.796875 0 \nL 37.796875 17.1875 \nL 4.890625 17.1875 \nL 4.890625 26.703125 \nz\n\" id=\"DejaVuSans-52\"/>\n       </defs>\n       <use xlink:href=\"#DejaVuSans-52\"/>\n       <use x=\"63.623047\" xlink:href=\"#DejaVuSans-48\"/>\n      </g>\n     </g>\n    </g>\n    <g id=\"ytick_4\">\n     <g id=\"line2d_9\">\n      <g>\n       <use style=\"stroke:#000000;stroke-width:0.8;\" x=\"26.925\" xlink:href=\"#mf06aada002\" y=\"91.351219\"/>\n      </g>\n     </g>\n     <g id=\"text_9\">\n      <!-- 60 -->\n      <g transform=\"translate(7.2 95.150438)scale(0.1 -0.1)\">\n       <defs>\n        <path d=\"M 33.015625 40.375 \nQ 26.375 40.375 22.484375 35.828125 \nQ 18.609375 31.296875 18.609375 23.390625 \nQ 18.609375 15.53125 22.484375 10.953125 \nQ 26.375 6.390625 33.015625 6.390625 \nQ 39.65625 6.390625 43.53125 10.953125 \nQ 47.40625 15.53125 47.40625 23.390625 \nQ 47.40625 31.296875 43.53125 35.828125 \nQ 39.65625 40.375 33.015625 40.375 \nz\nM 52.59375 71.296875 \nL 52.59375 62.3125 \nQ 48.875 64.0625 45.09375 64.984375 \nQ 41.3125 65.921875 37.59375 65.921875 \nQ 27.828125 65.921875 22.671875 59.328125 \nQ 17.53125 52.734375 16.796875 39.40625 \nQ 19.671875 43.65625 24.015625 45.921875 \nQ 28.375 48.1875 33.59375 48.1875 \nQ 44.578125 48.1875 50.953125 41.515625 \nQ 57.328125 34.859375 57.328125 23.390625 \nQ 57.328125 12.15625 50.6875 5.359375 \nQ 44.046875 -1.421875 33.015625 -1.421875 \nQ 20.359375 -1.421875 13.671875 8.265625 \nQ 6.984375 17.96875 6.984375 36.375 \nQ 6.984375 53.65625 15.1875 63.9375 \nQ 23.390625 74.21875 37.203125 74.21875 \nQ 40.921875 74.21875 44.703125 73.484375 \nQ 48.484375 72.75 52.59375 71.296875 \nz\n\" id=\"DejaVuSans-54\"/>\n       </defs>\n       <use xlink:href=\"#DejaVuSans-54\"/>\n       <use x=\"63.623047\" xlink:href=\"#DejaVuSans-48\"/>\n      </g>\n     </g>\n    </g>\n   </g>\n   <g id=\"patch_3\">\n    <path d=\"M 26.925 117.465619 \nL 26.925 10.329619 \n\" style=\"fill:none;stroke:#000000;stroke-linecap:square;stroke-linejoin:miter;stroke-width:0.8;\"/>\n   </g>\n   <g id=\"patch_4\">\n    <path d=\"M 361.725 117.465619 \nL 361.725 10.329619 \n\" style=\"fill:none;stroke:#000000;stroke-linecap:square;stroke-linejoin:miter;stroke-width:0.8;\"/>\n   </g>\n   <g id=\"patch_5\">\n    <path d=\"M 26.925 117.465619 \nL 361.725 117.465619 \n\" style=\"fill:none;stroke:#000000;stroke-linecap:square;stroke-linejoin:miter;stroke-width:0.8;\"/>\n   </g>\n   <g id=\"patch_6\">\n    <path d=\"M 26.925 10.329619 \nL 361.725 10.329619 \n\" style=\"fill:none;stroke:#000000;stroke-linecap:square;stroke-linejoin:miter;stroke-width:0.8;\"/>\n   </g>\n  </g>\n </g>\n <defs>\n  <clipPath id=\"p950128c199\">\n   <rect height=\"107.136\" width=\"334.8\" x=\"26.925\" y=\"10.329619\"/>\n  </clipPath>\n </defs>\n</svg>\n",
      "image/png": "[encoded data removed]"
     },
     "metadata": {
      "needs_background": "light"
     }
    }
   ],
   "source": [
    "plt.imshow(img)"
   ]
  },
  {
   "cell_type": "code",
   "execution_count": 37,
   "metadata": {},
   "outputs": [
    {
     "output_type": "execute_result",
     "data": {
      "text/plain": "10"
     },
     "metadata": {},
     "execution_count": 37
    }
   ],
   "source": [
    "len(train_dataset[0]['targets'].numpy())"
   ]
  },
  {
   "cell_type": "code",
   "execution_count": 38,
   "metadata": {},
   "outputs": [
    {
     "output_type": "error",
     "ename": "ValueError",
     "evalue": "y contains previously unseen labels: [62]",
     "traceback": [
      "\u001b[0;31m---------------------------------------------------------------------------\u001b[0m",
      "\u001b[0;31mValueError\u001b[0m                                Traceback (most recent call last)",
      "\u001b[0;32m&lt;ipython-input-38-ca917552c2fb&gt;\u001b[0m in \u001b[0;36m&lt;module&gt;\u001b[0;34m\u001b[0m\n\u001b[0;32m----&gt; 1\u001b[0;31m \u001b[0mlbl_encoder\u001b[0m\u001b[0;34m.\u001b[0m\u001b[0minverse_transform\u001b[0m\u001b[0;34m(\u001b[0m\u001b[0mtrain_dataset\u001b[0m\u001b[0;34m[\u001b[0m\u001b[0;36m0\u001b[0m\u001b[0;34m]\u001b[0m\u001b[0;34m[\u001b[0m\u001b[0;34m&#39;targets&#39;\u001b[0m\u001b[0;34m]\u001b[0m\u001b[0;34m.\u001b[0m\u001b[0mnumpy\u001b[0m\u001b[0;34m(\u001b[0m\u001b[0;34m)\u001b[0m\u001b[0;34m)\u001b[0m\u001b[0;34m\u001b[0m\u001b[0;34m\u001b[0m\u001b[0m\n\u001b[0m",
      "\u001b[0;32m~/anaconda3/lib/python3.7/site-packages/sklearn/preprocessing/_label.py\u001b[0m in \u001b[0;36minverse_transform\u001b[0;34m(self, y)\u001b[0m\n\u001b[1;32m    299\u001b[0m         \u001b[0;32mif\u001b[0m \u001b[0mlen\u001b[0m\u001b[0;34m(\u001b[0m\u001b[0mdiff\u001b[0m\u001b[0;34m)\u001b[0m\u001b[0;34m:\u001b[0m\u001b[0;34m\u001b[0m\u001b[0;34m\u001b[0m\u001b[0m\n\u001b[1;32m    300\u001b[0m             raise ValueError(\n\u001b[0;32m--&gt; 301\u001b[0;31m                     &quot;y contains previously unseen labels: %s&quot; % str(diff))\n\u001b[0m\u001b[1;32m    302\u001b[0m         \u001b[0my\u001b[0m \u001b[0;34m=\u001b[0m \u001b[0mnp\u001b[0m\u001b[0;34m.\u001b[0m\u001b[0masarray\u001b[0m\u001b[0;34m(\u001b[0m\u001b[0my\u001b[0m\u001b[0;34m)\u001b[0m\u001b[0;34m\u001b[0m\u001b[0;34m\u001b[0m\u001b[0m\n\u001b[1;32m    303\u001b[0m         \u001b[0;32mreturn\u001b[0m \u001b[0mself\u001b[0m\u001b[0;34m.\u001b[0m\u001b[0mclasses_\u001b[0m\u001b[0;34m[\u001b[0m\u001b[0my\u001b[0m\u001b[0;34m]\u001b[0m\u001b[0;34m\u001b[0m\u001b[0;34m\u001b[0m\u001b[0m\n",
      "\u001b[0;31mValueError\u001b[0m: y contains previously unseen labels: [62]"
     ]
    }
   ],
   "source": [
    "lbl_encoder.inverse_transform(train_dataset[0]['targets'].numpy())"
   ]
  },
  {
   "source": [
    "Before passing the outputs of the maxpool layer into the custom RNN layer, you have to do certain things\n",
    "\n",
    "-> permutation (batchsize, width, channels, height)\n"
   ],
   "cell_type": "markdown",
   "metadata": {}
  },
  {
   "cell_type": "code",
   "execution_count": 1,
   "metadata": {},
   "outputs": [],
   "source": [
    "import torch\n",
    "from torch import nn\n",
    "from torch.nn import functional as F\n",
    "\n",
    "\n",
    "class CaptchaModel(nn.Module):\n",
    "    def __init__(self, num_chars=36):\n",
    "        super(CaptchaModel, self).__init__()\n",
    "\n",
    "        self.conv_1 = nn.Conv2d(3, 128, kernel_size=(3, 3), padding=(1, 1))\n",
    "        self.max_pool1 = nn.MaxPool2d(kernel_size=(2, 2))\n",
    "\n",
    "        self.conv_2 = nn.Conv2d(128, 64, kernel_size=(3, 3), padding=(1, 1))\n",
    "        self.max_pool2 = nn.MaxPool2d(kernel_size=(2, 2))\n",
    "\n",
    "        self.linear_1 = nn.Linear(1024, 64)\n",
    "        self.drop_1 = nn.Dropout(0.2)\n",
    "\n",
    "        self.gru = nn.GRU(\n",
    "            64, 32, bidirectional=True, num_layers=2, dropout=0.25, batch_first=True\n",
    "        )\n",
    "        self.output = nn.Linear(64, num_chars + 1)\n",
    "\n",
    "    def forward(self, images, targets=None):\n",
    "        bs, ch, ht, wd = images.size()\n",
    "        # print(bs, ch, ht, wd)\n",
    "        x = F.relu(self.conv_1(images))\n",
    "        # print(x.size())\n",
    "        x = self.max_pool1(x)\n",
    "        # print(x.size())\n",
    "\n",
    "        x = F.relu(self.conv_2(x))\n",
    "        # print(x.size())\n",
    "        x = self.max_pool2(x)  # 1, 64, 18, 75\n",
    "        # print(x.size())  # before passing these outputs into custom rnn permute the outputs (0, 3, 1, 2)\n",
    "        x = x.permute(\n",
    "            0, 3, 1, 2\n",
    "        )  # 1, 75, 64, 18   # because we have to go through the width of the images\n",
    "        # print(\"1st permute: \", x.size())\n",
    "        x = x.view(bs, x.size(1), -1)\n",
    "        # print(x.size())\n",
    "        x = self.linear_1(x)\n",
    "        x = self.drop_1(x)\n",
    "        # print(x.size())\n",
    "        x, _ = self.gru(x)\n",
    "        # print(x.size())\n",
    "        x = self.output(x)\n",
    "        # print(x.size())\n",
    "        # To calculate the ctc loss, we should again permute it\n",
    "        # this you have to remember, timestamps, batches, values\n",
    "        x = x.permute(1, 0, 2)\n",
    "        # print(x.shape)\n",
    "\n",
    "        if targets is not None:\n",
    "            # ctc loss is already implemented in pytorch, but it is not straight forward.\n",
    "            # it takes log softmax values.\n",
    "            log_softmax_values = F.log_softmax(\n",
    "                x, 2\n",
    "            )  # (x, 2) indicates, x th second index which is num_chars + 1\n",
    "\n",
    "            # Two things have to specified here, length of inputs and len of outputs\n",
    "            input_lengths = torch.full(\n",
    "                size=(bs,), fill_value=log_softmax_values.size(0), dtype=torch.int32\n",
    "            )\n",
    "            # print(input_lengths)\n",
    "            targets_lengths = torch.full(\n",
    "                size=(bs,), fill_value=targets.size(1), dtype=torch.int32\n",
    "            )\n",
    "            # print(targets_lengths)\n",
    "            loss = nn.CTCLoss(blank=0)(\n",
    "                log_softmax_values, targets, input_lengths, targets_lengths\n",
    "            )\n",
    "\n",
    "            return x, loss\n",
    "\n",
    "        return x, None\n",
    "\n",
    "model = CaptchaModel()\n"
   ]
  },
  {
   "cell_type": "code",
   "execution_count": 2,
   "metadata": {
    "tags": []
   },
   "outputs": [
    {
     "output_type": "execute_result",
     "data": {
      "text/plain": [
       "<All keys matched successfully>"
      ]
     },
     "metadata": {},
     "execution_count": 2
    }
   ],
   "source": [
    "import albumentations\n",
    "import torch\n",
    "import torch.nn as nn\n",
    "import numpy as np\n",
    "from PIL import Image, ImageFile\n",
    "from torch.utils.data import Dataset\n",
    "image = Image.open(\"../input/raw_captcha/yelput#.png\").convert(\"RGB\")\n",
    "aug = albumentations.Compose(\n",
    "            [albumentations.Normalize(\n",
    "                always_apply=True)\n",
    "             ])\n",
    "image = image.resize(\n",
    "                (65, 300), resample=Image.BILINEAR\n",
    "            )\n",
    "\n",
    "\n",
    "image = np.array(image)\n",
    "aug_image = aug(image=image)\n",
    "image = aug_image[\"image\"]\n",
    "image = np.transpose(image, (2, 0, 1)).astype(np.float32)\n",
    "image = torch.tensor(image, dtype=torch.float)\n",
    "\n",
    "\n",
    "model.load_state_dict(torch.load(\"../input/captcha.pth\", map_location=torch.device('cpu')))\n",
    "\n",
    "\n",
    "\n"
   ]
  },
  {
   "cell_type": "code",
   "execution_count": 5,
   "metadata": {
    "tags": []
   },
   "outputs": [
    {
     "output_type": "error",
     "ename": "TypeError",
     "evalue": "reshape(): argument 'shape' must be tuple of ints, but found element of type tuple at pos 2",
     "traceback": [
      "\u001b[0;31m---------------------------------------------------------------------------\u001b[0m",
      "\u001b[0;31mTypeError\u001b[0m                                 Traceback (most recent call last)",
      "\u001b[0;32m<ipython-input-5-f18d787b0356>\u001b[0m in \u001b[0;36m<module>\u001b[0;34m\u001b[0m\n\u001b[0;32m----> 1\u001b[0;31m \u001b[0mimage\u001b[0m \u001b[0;34m=\u001b[0m \u001b[0mimage\u001b[0m\u001b[0;34m.\u001b[0m\u001b[0mreshape\u001b[0m\u001b[0;34m(\u001b[0m\u001b[0;36m30\u001b[0m \u001b[0;34m,\u001b[0m\u001b[0;34m(\u001b[0m\u001b[0;36m3\u001b[0m\u001b[0;34m,\u001b[0m \u001b[0;36m300\u001b[0m\u001b[0;34m,\u001b[0m \u001b[0;36m65\u001b[0m\u001b[0;34m)\u001b[0m\u001b[0;34m)\u001b[0m\u001b[0;34m\u001b[0m\u001b[0;34m\u001b[0m\u001b[0m\n\u001b[0m",
      "\u001b[0;31mTypeError\u001b[0m: reshape(): argument 'shape' must be tuple of ints, but found element of type tuple at pos 2"
     ]
    }
   ],
   "source": [
    "image = image.reshape("
   ]
  },
  {
   "cell_type": "code",
   "execution_count": 55,
   "metadata": {},
   "outputs": [
    {
     "output_type": "error",
     "ename": "ValueError",
     "evalue": "not enough values to unpack (expected 4, got 3)",
     "traceback": [
      "\u001b[0;31m---------------------------------------------------------------------------\u001b[0m",
      "\u001b[0;31mValueError\u001b[0m                                Traceback (most recent call last)",
      "\u001b[0;32m&lt;ipython-input-55-63284540b35b&gt;\u001b[0m in \u001b[0;36m&lt;module&gt;\u001b[0;34m\u001b[0m\n\u001b[1;32m      1\u001b[0m \u001b[0mmodel\u001b[0m\u001b[0;34m.\u001b[0m\u001b[0meval\u001b[0m\u001b[0;34m(\u001b[0m\u001b[0;34m)\u001b[0m\u001b[0;34m\u001b[0m\u001b[0;34m\u001b[0m\u001b[0m\n\u001b[0;32m----&gt; 2\u001b[0;31m \u001b[0moutput\u001b[0m\u001b[0;34m,\u001b[0m \u001b[0m_\u001b[0m \u001b[0;34m=\u001b[0m \u001b[0mmodel\u001b[0m\u001b[0;34m(\u001b[0m\u001b[0mimage\u001b[0m\u001b[0;34m)\u001b[0m\u001b[0;34m\u001b[0m\u001b[0;34m\u001b[0m\u001b[0m\n\u001b[0m",
      "\u001b[0;32m~/anaconda3/lib/python3.7/site-packages/torch/nn/modules/module.py\u001b[0m in \u001b[0;36m_call_impl\u001b[0;34m(self, *input, **kwargs)\u001b[0m\n\u001b[1;32m    720\u001b[0m             \u001b[0mresult\u001b[0m \u001b[0;34m=\u001b[0m \u001b[0mself\u001b[0m\u001b[0;34m.\u001b[0m\u001b[0m_slow_forward\u001b[0m\u001b[0;34m(\u001b[0m\u001b[0;34m*\u001b[0m\u001b[0minput\u001b[0m\u001b[0;34m,\u001b[0m \u001b[0;34m**\u001b[0m\u001b[0mkwargs\u001b[0m\u001b[0;34m)\u001b[0m\u001b[0;34m\u001b[0m\u001b[0;34m\u001b[0m\u001b[0m\n\u001b[1;32m    721\u001b[0m         \u001b[0;32melse\u001b[0m\u001b[0;34m:\u001b[0m\u001b[0;34m\u001b[0m\u001b[0;34m\u001b[0m\u001b[0m\n\u001b[0;32m--&gt; 722\u001b[0;31m             \u001b[0mresult\u001b[0m \u001b[0;34m=\u001b[0m \u001b[0mself\u001b[0m\u001b[0;34m.\u001b[0m\u001b[0mforward\u001b[0m\u001b[0;34m(\u001b[0m\u001b[0;34m*\u001b[0m\u001b[0minput\u001b[0m\u001b[0;34m,\u001b[0m \u001b[0;34m**\u001b[0m\u001b[0mkwargs\u001b[0m\u001b[0;34m)\u001b[0m\u001b[0;34m\u001b[0m\u001b[0;34m\u001b[0m\u001b[0m\n\u001b[0m\u001b[1;32m    723\u001b[0m         for hook in itertools.chain(\n\u001b[1;32m    724\u001b[0m                 \u001b[0m_global_forward_hooks\u001b[0m\u001b[0;34m.\u001b[0m\u001b[0mvalues\u001b[0m\u001b[0;34m(\u001b[0m\u001b[0;34m)\u001b[0m\u001b[0;34m,\u001b[0m\u001b[0;34m\u001b[0m\u001b[0;34m\u001b[0m\u001b[0m\n",
      "\u001b[0;32m&lt;ipython-input-33-15e002ea3e8b&gt;\u001b[0m in \u001b[0;36mforward\u001b[0;34m(self, images, targets)\u001b[0m\n\u001b[1;32m     23\u001b[0m \u001b[0;34m\u001b[0m\u001b[0m\n\u001b[1;32m     24\u001b[0m     \u001b[0;32mdef\u001b[0m \u001b[0mforward\u001b[0m\u001b[0;34m(\u001b[0m\u001b[0mself\u001b[0m\u001b[0;34m,\u001b[0m \u001b[0mimages\u001b[0m\u001b[0;34m,\u001b[0m \u001b[0mtargets\u001b[0m\u001b[0;34m=\u001b[0m\u001b[0;32mNone\u001b[0m\u001b[0;34m)\u001b[0m\u001b[0;34m:\u001b[0m\u001b[0;34m\u001b[0m\u001b[0;34m\u001b[0m\u001b[0m\n\u001b[0;32m---&gt; 25\u001b[0;31m         \u001b[0mbs\u001b[0m\u001b[0;34m,\u001b[0m \u001b[0mch\u001b[0m\u001b[0;34m,\u001b[0m \u001b[0mht\u001b[0m\u001b[0;34m,\u001b[0m \u001b[0mwd\u001b[0m \u001b[0;34m=\u001b[0m \u001b[0mimages\u001b[0m\u001b[0;34m.\u001b[0m\u001b[0msize\u001b[0m\u001b[0;34m(\u001b[0m\u001b[0;34m)\u001b[0m\u001b[0;34m\u001b[0m\u001b[0;34m\u001b[0m\u001b[0m\n\u001b[0m\u001b[1;32m     26\u001b[0m         \u001b[0;31m# print(bs, ch, ht, wd)\u001b[0m\u001b[0;34m\u001b[0m\u001b[0;34m\u001b[0m\u001b[0;34m\u001b[0m\u001b[0m\n\u001b[1;32m     27\u001b[0m         \u001b[0mx\u001b[0m \u001b[0;34m=\u001b[0m \u001b[0mF\u001b[0m\u001b[0;34m.\u001b[0m\u001b[0mrelu\u001b[0m\u001b[0;34m(\u001b[0m\u001b[0mself\u001b[0m\u001b[0;34m.\u001b[0m\u001b[0mconv_1\u001b[0m\u001b[0;34m(\u001b[0m\u001b[0mimages\u001b[0m\u001b[0;34m)\u001b[0m\u001b[0;34m)\u001b[0m\u001b[0;34m\u001b[0m\u001b[0;34m\u001b[0m\u001b[0m\n",
      "\u001b[0;31mValueError\u001b[0m: not enough values to unpack (expected 4, got 3)"
     ]
    }
   ],
   "source": [
    "model.eval()\n",
    "output, _ = model(image)"
   ]
  },
  {
   "cell_type": "code",
   "execution_count": null,
   "metadata": {},
   "outputs": [],
   "source": []
  }
 ]
}